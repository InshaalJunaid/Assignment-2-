{
 "cells": [
  {
   "cell_type": "markdown",
   "id": "a5a90b77",
   "metadata": {},
   "source": [
    "## Question 1 : Student Grades"
   ]
  },
  {
   "cell_type": "code",
   "execution_count": 29,
   "id": "404584f5",
   "metadata": {},
   "outputs": [
    {
     "name": "stdout",
     "output_type": "stream",
     "text": [
      "Marks of Student 1 :56\n",
      "Marks of Student 2 :67\n",
      "Marks of Student 3 :45\n",
      "Marks of Student 4 :68\n",
      "Marks of Student 5 :98\n",
      "The Sum of the Studnets is : 334.0\n",
      "The Average of the Students is : 66.8\n"
     ]
    }
   ],
   "source": [
    "Student_1_Marks = float(input(\"Marks of Student 1 :\"))\n",
    "Student_2_Marks = float(input(\"Marks of Student 2 :\"))\n",
    "Student_3_Marks = float(input(\"Marks of Student 3 :\"))\n",
    "Student_4_Marks = float(input(\"Marks of Student 4 :\"))\n",
    "Student_5_Marks = float(input(\"Marks of Student 5 :\"))\n",
    "\n",
    "Sum = Student_1_Marks + Student_2_Marks + Student_3_Marks + Student_4_Marks + Student_5_Marks \n",
    "print ('The Sum of the Studnets is :',Sum)\n",
    "Marks_Avg = Sum/5\n",
    "print ('The Average of the Students is :',Marks_Avg)\n"
   ]
  },
  {
   "cell_type": "markdown",
   "id": "079807e5",
   "metadata": {},
   "source": [
    "## Question 2 : Frequency Counter"
   ]
  },
  {
   "cell_type": "code",
   "execution_count": 27,
   "id": "1f2488d4",
   "metadata": {},
   "outputs": [
    {
     "name": "stdout",
     "output_type": "stream",
     "text": [
      "Apple: 3 times\n",
      "Banana: 2 times\n",
      "Orange: 1 times\n",
      "Grape: 1 times\n"
     ]
    }
   ],
   "source": [
    "def count_word_frequency(word_list):\n",
    "    frequency = {}\n",
    "    for word in word_list:\n",
    "        if word in frequency:\n",
    "            frequency[word] += 1\n",
    "        else:\n",
    "            frequency[word] = 1\n",
    "    \n",
    "    return frequency\n",
    "\n",
    "word_list = [\"Apple\", \"Banana\", \"Apple\", \"Orange\", \"Banana\", \"Grape\", \"Apple\"]\n",
    "word_frequency = count_word_frequency(word_list)\n",
    "\n",
    "for word, freq in word_frequency.items():\n",
    "    print(f\"{word}: {freq} times\")"
   ]
  },
  {
   "cell_type": "markdown",
   "id": "f9d17bd4",
   "metadata": {},
   "source": [
    "## Question 3 : Password Strength "
   ]
  },
  {
   "cell_type": "code",
   "execution_count": 22,
   "id": "b30fca1b",
   "metadata": {},
   "outputs": [
    {
     "name": "stdout",
     "output_type": "stream",
     "text": [
      "Enter a password: bdsdsjsej4j\n",
      "Password is Strong\n"
     ]
    }
   ],
   "source": [
    "def strong_password(password):\n",
    "    if len(password) < 8:\n",
    "        print(\"Password must consist of 8 characters\")\n",
    "\n",
    "    if not any(char.isdigit() for char in password):\n",
    "        print(\"Password must contain atleast 1 digit \")\n",
    "        return False   \n",
    "    if not any(char.isalpha() for char in password):\n",
    "        print(\"Password must contain atleast 1 Letter \")\n",
    "        return False\n",
    "    return True\n",
    "user_password = input(\"Enter a password: \")\n",
    "if strong_password(user_password):\n",
    "    print(\"Password is Strong\")\n",
    "else:\n",
    "    print(\"Password is Weak!\")\n",
    "    "
   ]
  },
  {
   "cell_type": "markdown",
   "id": "ddc33c58",
   "metadata": {},
   "source": [
    "## Question 4 : Voting System"
   ]
  },
  {
   "cell_type": "code",
   "execution_count": 1,
   "id": "aa9662e6",
   "metadata": {},
   "outputs": [
    {
     "name": "stdout",
     "output_type": "stream",
     "text": [
      "\n",
      "--- Employee Recognition Awards ---\n",
      "\n",
      "Employee of the Year Candidates:\n",
      "1. Candidate A\n",
      "2. Candidate B\n",
      "3. Candidate C\n",
      "\n",
      "Team Player of the Year Candidates:\n",
      "1. Candidate A\n",
      "2. Candidate B\n",
      "3. Candidate C\n",
      "\n",
      "Innovation Award Candidates:\n",
      "1. Candidate A\n",
      "2. Candidate B\n",
      "3. Candidate C\n",
      "\n",
      "Enter the number of voters participating: 3\n",
      "Enter the number corresponding to your choice for Employee of the Year: 1\n",
      "Your vote for Candidate A in the Employee of the Year category has been recorded.\n",
      "Enter the number corresponding to your choice for Team Player of the Year: 1\n",
      "Your vote for Candidate A in the Team Player of the Year category has been recorded.\n",
      "Enter the number corresponding to your choice for Innovation Award: 1\n",
      "Your vote for Candidate A in the Innovation Award category has been recorded.\n",
      "Enter the number corresponding to your choice for Employee of the Year: 1\n",
      "Your vote for Candidate A in the Employee of the Year category has been recorded.\n",
      "Enter the number corresponding to your choice for Team Player of the Year: 2\n",
      "Your vote for Candidate B in the Team Player of the Year category has been recorded.\n",
      "Enter the number corresponding to your choice for Innovation Award: 2\n",
      "Your vote for Candidate B in the Innovation Award category has been recorded.\n",
      "Enter the number corresponding to your choice for Employee of the Year: 2\n",
      "Your vote for Candidate B in the Employee of the Year category has been recorded.\n",
      "Enter the number corresponding to your choice for Team Player of the Year: 3\n",
      "Your vote for Candidate C in the Team Player of the Year category has been recorded.\n",
      "Enter the number corresponding to your choice for Innovation Award: 3\n",
      "Your vote for Candidate C in the Innovation Award category has been recorded.\n",
      "\n",
      "--- Voting Results ---\n",
      "\n",
      "Employee of the Year Results:\n",
      "Candidate A: 2 votes\n",
      "Candidate B: 1 votes\n",
      "Candidate C: 0 votes\n",
      "\n",
      "Team Player of the Year Results:\n",
      "Candidate A: 1 votes\n",
      "Candidate B: 1 votes\n",
      "Candidate C: 1 votes\n",
      "\n",
      "Innovation Award Results:\n",
      "Candidate A: 1 votes\n",
      "Candidate B: 1 votes\n",
      "Candidate C: 1 votes\n"
     ]
    }
   ],
   "source": [
    "candidates = {\n",
    "    'Employee of the Year': ['Candidate A', 'Candidate B', 'Candidate C'],\n",
    "    'Team Player of the Year': ['Candidate A', 'Candidate B', 'Candidate C'],\n",
    "    'Innovation Award': ['Candidate A', 'Candidate B', 'Candidate C']\n",
    "}\n",
    "\n",
    "vote_counts = {category: {candidate: 0 for candidate in candidates[category]} for category in candidates}\n",
    "\n",
    "def display_candidates():\n",
    "    \"\"\"Display the list of candidates for each award category.\"\"\"\n",
    "    print(\"\\n--- Employee Recognition Awards ---\")\n",
    "    for category, category_candidates in candidates.items():\n",
    "        print(f\"\\n{category} Candidates:\")\n",
    "        for i, candidate in enumerate(category_candidates, start=1):\n",
    "            print(f\"{i}. {candidate}\")\n",
    "\n",
    "def get_valid_vote(category):\n",
    "    \"\"\"Get a valid vote from the user for the specified category.\"\"\"\n",
    "    while True:\n",
    "        try:\n",
    "            vote = int(input(f\"Enter the number corresponding to your choice for {category}: \"))\n",
    "            if 1 <= vote <= len(candidates[category]):\n",
    "                return vote\n",
    "            else:\n",
    "                print(\"Invalid choice. Please select a valid candidate.\\n\")\n",
    "        except ValueError:\n",
    "            print(\"Invalid input. Please enter a number.\\n\")\n",
    "\n",
    "def record_vote(category, vote):\n",
    "    \"\"\"Record the vote for the selected candidate.\"\"\"\n",
    "    selected_candidate = candidates[category][vote - 1]\n",
    "    vote_counts[category][selected_candidate] += 1\n",
    "    print(f\"Your vote for {selected_candidate} in the {category} category has been recorded.\")\n",
    "\n",
    "def display_results():\n",
    "    \"\"\"Display the voting results.\"\"\"\n",
    "    print(\"\\n--- Voting Results ---\")\n",
    "    for category, category_candidates in candidates.items():\n",
    "        print(f\"\\n{category} Results:\")\n",
    "        for candidate, votes in vote_counts[category].items():\n",
    "            print(f\"{candidate}: {votes} votes\")\n",
    "\n",
    "def main():\n",
    "    display_candidates()\n",
    "    num_voters = int(input(\"\\nEnter the number of voters participating: \"))\n",
    "\n",
    "    for _ in range(num_voters):\n",
    "        for category in candidates:\n",
    "            vote = get_valid_vote(category)\n",
    "            record_vote(category, vote)\n",
    "\n",
    "    display_results()\n",
    "\n",
    "if __name__ == \"__main__\":\n",
    "    main()"
   ]
  }
 ],
 "metadata": {
  "kernelspec": {
   "display_name": "Python 3 (ipykernel)",
   "language": "python",
   "name": "python3"
  },
  "language_info": {
   "codemirror_mode": {
    "name": "ipython",
    "version": 3
   },
   "file_extension": ".py",
   "mimetype": "text/x-python",
   "name": "python",
   "nbconvert_exporter": "python",
   "pygments_lexer": "ipython3",
   "version": "3.11.5"
  }
 },
 "nbformat": 4,
 "nbformat_minor": 5
}
